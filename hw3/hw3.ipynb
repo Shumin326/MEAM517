{
  "nbformat": 4,
  "nbformat_minor": 0,
  "metadata": {
    "colab": {
      "name": "hw3.ipynb",
      "provenance": [],
      "collapsed_sections": [],
      "toc_visible": true
    },
    "kernelspec": {
      "name": "python3",
      "display_name": "Python 3"
    }
  },
  "cells": [
    {
      "cell_type": "markdown",
      "metadata": {
        "id": "KJVkP-RaJrs0",
        "colab_type": "text"
      },
      "source": [
        "# Synchronize homework files\n",
        "Colab starts a new virtual machine for each jupyter notebook that the user opens up, and the virtual machine session ends after a few hours of idle time, so be aware that **we cannot save files on the virtual machine permanently**! To get around this issue, this cell saves your homework files in your own Google Drive and creates shortcuts in virtual machine that link to the files in Google Drive. "
      ]
    },
    {
      "cell_type": "code",
      "metadata": {
        "id": "93ewQ7RBGUhS",
        "colab_type": "code",
        "colab": {}
      },
      "source": [
        "# Synchronize homework files (link to google drive's hw files; if hw files don't exist in google drive, download files from github) \n",
        "! rm -rf sample_data; curl -s https://raw.githubusercontent.com/mposa/MEAM517/master/sync_hw.py > sync_hw.py\n",
        "files = [\"unicycle_spline.py\", \"unicycle_input.py\", \"plot_unicycle_trajectory.py\", \"simulate_unicycle.py\", \"cartpole.py\", \"cartpole_sim.py\"]\n",
        "\n",
        "from sync_hw import sync_hw\n",
        "sync_hw(3, files, False)"
      ],
      "execution_count": null,
      "outputs": []
    },
    {
      "cell_type": "markdown",
      "metadata": {
        "id": "BLdeLq-sJ4SL",
        "colab_type": "text"
      },
      "source": [
        "# Problem 1 -- Unicycle Differential Flatness\n",
        "This cell simulates and visualizes a unicycle.\n",
        "\n"
      ]
    },
    {
      "cell_type": "code",
      "metadata": {
        "id": "xiIcOHp6GbQX",
        "colab_type": "code",
        "colab": {}
      },
      "source": [
        "%matplotlib inline\n",
        "\n",
        "import importlib\n",
        "\n",
        "# Reload the module to use the latest code\n",
        "import simulate_unicycle\n",
        "importlib.reload(simulate_unicycle)\n",
        "from simulate_unicycle import simulate_unicycle\n",
        "\n",
        "# Run simulation\n",
        "anim, fig = simulate_unicycle()\n",
        "\n",
        "# Create animation\n",
        "anim"
      ],
      "execution_count": null,
      "outputs": []
    },
    {
      "cell_type": "code",
      "metadata": {
        "id": "erZHzhPgLINE",
        "colab_type": "code",
        "colab": {}
      },
      "source": [
        "# Save the trajectory figure to workspace\n",
        "# TODO: attach this figure to your pdf submission\n",
        "fig.savefig(\"unicycle_trajectory.png\", dpi=240)"
      ],
      "execution_count": 8,
      "outputs": []
    },
    {
      "cell_type": "markdown",
      "metadata": {
        "id": "c7S-5Kfqk1pE",
        "colab_type": "text"
      },
      "source": [
        "# Problem 3 - Energy Shaping"
      ]
    },
    {
      "cell_type": "code",
      "metadata": {
        "id": "tz8n8pQqmVDq",
        "colab_type": "code",
        "colab": {
          "base_uri": "https://localhost:8080/",
          "height": 17
        },
        "outputId": "52b623e5-1e2f-4b5e-e359-cafe32612f9e"
      },
      "source": [
        "# Install drake. We are using the lqr controller in drake as the final stabilizing controller.\n",
        "# The installation process will take about 2 minutes but it's only required in the start of the Colab's virtual machine.\n",
        "!curl -s https://raw.githubusercontent.com/mposa/MEAM517/master/colab_drake_setup.py > colab_drake_setup.py\n",
        "from colab_drake_setup import setup\n",
        "setup()"
      ],
      "execution_count": 2,
      "outputs": [
        {
          "output_type": "display_data",
          "data": {
            "application/javascript": [
              "google.colab.output.setIframeHeight(0, true, {maxHeight: 100})"
            ],
            "text/plain": [
              "<IPython.core.display.Javascript object>"
            ]
          },
          "metadata": {
            "tags": []
          }
        }
      ]
    },
    {
      "cell_type": "code",
      "metadata": {
        "id": "oxxZuhdmlB1p",
        "colab_type": "code",
        "colab": {}
      },
      "source": [
        "%matplotlib inline\n",
        "\n",
        "from matplotlib import rc\n",
        "rc('animation', html='jshtml')\n",
        "\n",
        "import numpy as np\n",
        "from math import sin, cos, pi\n",
        "\n",
        "import importlib\n",
        "import cartpole\n",
        "import cartpole_sim\n",
        "importlib.reload(cartpole)\n",
        "importlib.reload(cartpole_sim)\n",
        "from cartpole import Cartpole\n",
        "from cartpole_sim import simulate_cartpole\n",
        "\n",
        "# Initial state\n",
        "x0 = np.zeros(4)\n",
        "x0[1] = pi/6\n",
        "tf = 10\n",
        "\n",
        "# Create a cartpole system with LQR controller\n",
        "cartpole = Cartpole()\n",
        "\n",
        "# Simulate and create animation\n",
        "anim, fig = simulate_cartpole(cartpole, x0, tf, True)\n",
        "\n",
        "anim"
      ],
      "execution_count": null,
      "outputs": []
    },
    {
      "cell_type": "code",
      "metadata": {
        "id": "J5Zxc4nAwvUb",
        "colab_type": "code",
        "colab": {}
      },
      "source": [
        "# Save the trajectory figure to workspace\n",
        "# TODO: attach this figure to your pdf submission\n",
        "fig.savefig(\"cartpole_trajectory.png\", dpi=240)"
      ],
      "execution_count": 11,
      "outputs": []
    }
  ]
}