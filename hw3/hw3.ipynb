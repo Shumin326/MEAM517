{
  "nbformat": 4,
  "nbformat_minor": 0,
  "metadata": {
    "colab": {
      "name": "hw3.ipynb",
      "provenance": [],
      "collapsed_sections": [],
      "toc_visible": true
    },
    "kernelspec": {
      "name": "python3",
      "display_name": "Python 3"
    }
  },
  "cells": [
    {
      "cell_type": "markdown",
      "metadata": {
        "id": "KJVkP-RaJrs0",
        "colab_type": "text"
      },
      "source": [
        "# Synchronize homework files\n",
        "Colab starts a new virtual machine for each jupyter notebook that the user opens up, and the virtual machine session ends after a few hours of idle time, so be aware that **we cannot save files on the virtual machine permanently**! To get around this issue, this cell saves your homework files in your own Google Drive and creates shortcuts in virtual machine that link to the files in Google Drive. "
      ]
    },
    {
      "cell_type": "code",
      "metadata": {
        "id": "93ewQ7RBGUhS",
        "colab_type": "code",
        "colab": {}
      },
      "source": [
        "# Synchronize homework files (link to google drive's hw files; if hw files don't exist in google drive, download files from github) \n",
        "! rm -rf sample_data; curl -s https://raw.githubusercontent.com/mposa/MEAM517/master/sync_hw.py > sync_hw.py\n",
        "files = [\"unicycle_spline.py\", \"unicycle_input.py\", \"plot_unicycle_trajectory.py\", \"simulate_unicycle.py\"]\n",
        "\n",
        "from sync_hw import sync_hw\n",
        "sync_hw(3, files)"
      ],
      "execution_count": null,
      "outputs": []
    },
    {
      "cell_type": "markdown",
      "metadata": {
        "id": "BLdeLq-sJ4SL",
        "colab_type": "text"
      },
      "source": [
        "# Problem 1 -- Unicycle Differential Flatness\n",
        "This cell simulates and visualizes a unicycle.\n",
        "\n"
      ]
    },
    {
      "cell_type": "code",
      "metadata": {
        "id": "xiIcOHp6GbQX",
        "colab_type": "code",
        "colab": {}
      },
      "source": [
        "%matplotlib inline\n",
        "\n",
        "import importlib\n",
        "\n",
        "# Reload the module to use the latest code\n",
        "import simulate_unicycle\n",
        "importlib.reload(simulate_unicycle)\n",
        "from simulate_unicycle import simulate_unicycle\n",
        "\n",
        "# Run simulation\n",
        "anim = simulate_unicycle()\n",
        "\n",
        "# Create animation\n",
        "anim"
      ],
      "execution_count": 20,
      "outputs": []
    }
  ]
}